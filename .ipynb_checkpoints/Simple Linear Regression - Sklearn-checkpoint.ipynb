{
 "cells": [
  {
   "cell_type": "code",
   "execution_count": 1,
   "id": "df028571",
   "metadata": {},
   "outputs": [],
   "source": [
    "import pandas as pd\n",
    "import numpy as np\n",
    "import seaborn as sns\n",
    "import matplotlib.pyplot as plt\n",
    "\n",
    "# sklearn is a huge library with more than 100 models (still growing) - the common practice is to import the model you want\n",
    "    # it is also divided into subcategories, so you need to access that with .<subcategory name>\n",
    "from sklearn.linear_model import LinearRegression"
   ]
  },
  {
   "cell_type": "code",
   "execution_count": 3,
   "id": "6f2b006e",
   "metadata": {},
   "outputs": [
    {
     "data": {
      "text/html": [
       "<div>\n",
       "<style scoped>\n",
       "    .dataframe tbody tr th:only-of-type {\n",
       "        vertical-align: middle;\n",
       "    }\n",
       "\n",
       "    .dataframe tbody tr th {\n",
       "        vertical-align: top;\n",
       "    }\n",
       "\n",
       "    .dataframe thead th {\n",
       "        text-align: right;\n",
       "    }\n",
       "</style>\n",
       "<table border=\"1\" class=\"dataframe\">\n",
       "  <thead>\n",
       "    <tr style=\"text-align: right;\">\n",
       "      <th></th>\n",
       "      <th>carID</th>\n",
       "      <th>brand</th>\n",
       "      <th>model</th>\n",
       "      <th>year</th>\n",
       "      <th>transmission</th>\n",
       "      <th>mileage</th>\n",
       "      <th>fuelType</th>\n",
       "      <th>tax</th>\n",
       "      <th>mpg</th>\n",
       "      <th>engineSize</th>\n",
       "      <th>price</th>\n",
       "    </tr>\n",
       "  </thead>\n",
       "  <tbody>\n",
       "    <tr>\n",
       "      <th>0</th>\n",
       "      <td>18473</td>\n",
       "      <td>bmw</td>\n",
       "      <td>6 Series</td>\n",
       "      <td>2020</td>\n",
       "      <td>Semi-Auto</td>\n",
       "      <td>11</td>\n",
       "      <td>Diesel</td>\n",
       "      <td>145</td>\n",
       "      <td>53.3282</td>\n",
       "      <td>3.0</td>\n",
       "      <td>37980</td>\n",
       "    </tr>\n",
       "    <tr>\n",
       "      <th>1</th>\n",
       "      <td>15064</td>\n",
       "      <td>bmw</td>\n",
       "      <td>6 Series</td>\n",
       "      <td>2019</td>\n",
       "      <td>Semi-Auto</td>\n",
       "      <td>10813</td>\n",
       "      <td>Diesel</td>\n",
       "      <td>145</td>\n",
       "      <td>53.0430</td>\n",
       "      <td>3.0</td>\n",
       "      <td>33980</td>\n",
       "    </tr>\n",
       "    <tr>\n",
       "      <th>2</th>\n",
       "      <td>18268</td>\n",
       "      <td>bmw</td>\n",
       "      <td>6 Series</td>\n",
       "      <td>2020</td>\n",
       "      <td>Semi-Auto</td>\n",
       "      <td>6</td>\n",
       "      <td>Diesel</td>\n",
       "      <td>145</td>\n",
       "      <td>53.4379</td>\n",
       "      <td>3.0</td>\n",
       "      <td>36850</td>\n",
       "    </tr>\n",
       "    <tr>\n",
       "      <th>3</th>\n",
       "      <td>18480</td>\n",
       "      <td>bmw</td>\n",
       "      <td>6 Series</td>\n",
       "      <td>2017</td>\n",
       "      <td>Semi-Auto</td>\n",
       "      <td>18895</td>\n",
       "      <td>Diesel</td>\n",
       "      <td>145</td>\n",
       "      <td>51.5140</td>\n",
       "      <td>3.0</td>\n",
       "      <td>25998</td>\n",
       "    </tr>\n",
       "    <tr>\n",
       "      <th>4</th>\n",
       "      <td>18492</td>\n",
       "      <td>bmw</td>\n",
       "      <td>6 Series</td>\n",
       "      <td>2015</td>\n",
       "      <td>Automatic</td>\n",
       "      <td>62953</td>\n",
       "      <td>Diesel</td>\n",
       "      <td>160</td>\n",
       "      <td>51.4903</td>\n",
       "      <td>3.0</td>\n",
       "      <td>18990</td>\n",
       "    </tr>\n",
       "    <tr>\n",
       "      <th>5</th>\n",
       "      <td>17089</td>\n",
       "      <td>bmw</td>\n",
       "      <td>6 Series</td>\n",
       "      <td>2017</td>\n",
       "      <td>Semi-Auto</td>\n",
       "      <td>20643</td>\n",
       "      <td>Diesel</td>\n",
       "      <td>145</td>\n",
       "      <td>51.3358</td>\n",
       "      <td>3.0</td>\n",
       "      <td>27825</td>\n",
       "    </tr>\n",
       "    <tr>\n",
       "      <th>6</th>\n",
       "      <td>13342</td>\n",
       "      <td>bmw</td>\n",
       "      <td>6 Series</td>\n",
       "      <td>2013</td>\n",
       "      <td>Semi-Auto</td>\n",
       "      <td>54483</td>\n",
       "      <td>Diesel</td>\n",
       "      <td>160</td>\n",
       "      <td>51.4219</td>\n",
       "      <td>3.0</td>\n",
       "      <td>16640</td>\n",
       "    </tr>\n",
       "    <tr>\n",
       "      <th>7</th>\n",
       "      <td>14659</td>\n",
       "      <td>bmw</td>\n",
       "      <td>6 Series</td>\n",
       "      <td>2016</td>\n",
       "      <td>Automatic</td>\n",
       "      <td>32449</td>\n",
       "      <td>Diesel</td>\n",
       "      <td>160</td>\n",
       "      <td>51.6433</td>\n",
       "      <td>3.0</td>\n",
       "      <td>18450</td>\n",
       "    </tr>\n",
       "    <tr>\n",
       "      <th>8</th>\n",
       "      <td>13739</td>\n",
       "      <td>bmw</td>\n",
       "      <td>6 Series</td>\n",
       "      <td>2017</td>\n",
       "      <td>Automatic</td>\n",
       "      <td>31328</td>\n",
       "      <td>Diesel</td>\n",
       "      <td>145</td>\n",
       "      <td>51.8007</td>\n",
       "      <td>3.0</td>\n",
       "      <td>26500</td>\n",
       "    </tr>\n",
       "    <tr>\n",
       "      <th>9</th>\n",
       "      <td>16234</td>\n",
       "      <td>bmw</td>\n",
       "      <td>6 Series</td>\n",
       "      <td>2012</td>\n",
       "      <td>Automatic</td>\n",
       "      <td>50319</td>\n",
       "      <td>Diesel</td>\n",
       "      <td>160</td>\n",
       "      <td>51.5976</td>\n",
       "      <td>3.0</td>\n",
       "      <td>12970</td>\n",
       "    </tr>\n",
       "  </tbody>\n",
       "</table>\n",
       "</div>"
      ],
      "text/plain": [
       "   carID brand      model  year transmission  mileage fuelType  tax      mpg  \\\n",
       "0  18473   bmw   6 Series  2020    Semi-Auto       11   Diesel  145  53.3282   \n",
       "1  15064   bmw   6 Series  2019    Semi-Auto    10813   Diesel  145  53.0430   \n",
       "2  18268   bmw   6 Series  2020    Semi-Auto        6   Diesel  145  53.4379   \n",
       "3  18480   bmw   6 Series  2017    Semi-Auto    18895   Diesel  145  51.5140   \n",
       "4  18492   bmw   6 Series  2015    Automatic    62953   Diesel  160  51.4903   \n",
       "5  17089   bmw   6 Series  2017    Semi-Auto    20643   Diesel  145  51.3358   \n",
       "6  13342   bmw   6 Series  2013    Semi-Auto    54483   Diesel  160  51.4219   \n",
       "7  14659   bmw   6 Series  2016    Automatic    32449   Diesel  160  51.6433   \n",
       "8  13739   bmw   6 Series  2017    Automatic    31328   Diesel  145  51.8007   \n",
       "9  16234   bmw   6 Series  2012    Automatic    50319   Diesel  160  51.5976   \n",
       "\n",
       "   engineSize  price  \n",
       "0         3.0  37980  \n",
       "1         3.0  33980  \n",
       "2         3.0  36850  \n",
       "3         3.0  25998  \n",
       "4         3.0  18990  \n",
       "5         3.0  27825  \n",
       "6         3.0  16640  \n",
       "7         3.0  18450  \n",
       "8         3.0  26500  \n",
       "9         3.0  12970  "
      ]
     },
     "execution_count": 3,
     "metadata": {},
     "output_type": "execute_result"
    }
   ],
   "source": [
    "# importing dataset to pandas dataframe\n",
    "trainf = pd.read_csv('Datasets/Car_features_train.csv') # Predictors\n",
    "trainp = pd.read_csv('Datasets/Car_prices_train.csv') # Response\n",
    "train = pd.merge(trainf,trainp)\n",
    "train.head(10)"
   ]
  },
  {
   "cell_type": "code",
   "execution_count": 3,
   "id": "42ba3327",
   "metadata": {},
   "outputs": [
    {
     "data": {
      "text/plain": [
       "array([-4122.03574424])"
      ]
     },
     "execution_count": 3,
     "metadata": {},
     "output_type": "execute_result"
    }
   ],
   "source": [
    "# Create the model as an object\n",
    "\n",
    "model = LinearRegression() # No inputs, this will change for other models\n",
    "\n",
    "# Train the model - separate the predictor(s) and the response for this!\n",
    "X_train = train[['engineSize']]\n",
    "y_train = train[['price']]\n",
    "\n",
    "# Note that both are dfs, NOT series - necessary to avoid errors\n",
    "\n",
    "model.fit(X_train, y_train)\n",
    "\n",
    "# Check the slight syntax differences\n",
    "    # predictors and response separate\n",
    "    # We need to manually slice the predictor column(s) we want to include\n",
    "    # No need to assign to an output\n",
    "    \n",
    "# Return the parameters\n",
    "model.coef_ # slope\n",
    "model.intercept_ # intercept\n",
    "\n",
    "# No .summary() here! - impossible to do much inference; this is a shortcoming of sklearn"
   ]
  },
  {
   "cell_type": "code",
   "execution_count": 4,
   "id": "a710605d",
   "metadata": {},
   "outputs": [
    {
     "name": "stdout",
     "output_type": "stream",
     "text": [
      "Test RMSE:  12995.106451548696\n",
      "Test MAE:  9411.325912951994\n"
     ]
    }
   ],
   "source": [
    "# Prediction\n",
    "\n",
    "# Test data\n",
    "testf = pd.read_csv('Datasets/Car_features_test.csv') # Predictors\n",
    "testp = pd.read_csv('Datasets/Car_prices_test.csv') # Response\n",
    "test = pd.merge(testf,testp)\n",
    "test.head()\n",
    "\n",
    "# Again, separate the predictor(s) and the response of interest\n",
    "X_test = test[['engineSize']]\n",
    "y_test = test[['price']].to_numpy() # Easier to handle with calculations as np array\n",
    "\n",
    "y_pred = model.predict(X_test)\n",
    "\n",
    "# Evaluate\n",
    "\n",
    "# Evaluate\n",
    "model_rmse = np.sqrt(np.mean((y_pred - y_test)**2)) # RMSE\n",
    "model_mae = np.mean(np.abs(y_pred - y_test)) # MAE\n",
    "\n",
    "print('Test RMSE: ', model_rmse)\n",
    "print('Test MAE: ', model_mae)"
   ]
  },
  {
   "cell_type": "code",
   "execution_count": 5,
   "id": "2c9a4202",
   "metadata": {},
   "outputs": [
    {
     "name": "stdout",
     "output_type": "stream",
     "text": [
      "Test RMSE: 12995.106451548696\n",
      "Train RMSE: 12807.526231509039\n"
     ]
    }
   ],
   "source": [
    "# Lastly, check for overfitting/underfitting\n",
    "\n",
    "print('Test RMSE:', model_rmse)\n",
    "\n",
    "# Print training RMSE and compare\n",
    "y_pred_train = model.predict(X_train)\n",
    "\n",
    "print('Train RMSE:', np.sqrt(np.mean((y_pred_train - y_train.to_numpy())**2)))\n",
    "\n",
    "# Comparable - no overfitting\n",
    "# Around 13k error for car prices - underfitting\n",
    "\n",
    "# No .mse_resid here!\n"
   ]
  },
  {
   "cell_type": "code",
   "execution_count": 7,
   "id": "dcf33f5b",
   "metadata": {},
   "outputs": [
    {
     "name": "stdout",
     "output_type": "stream",
     "text": [
      "Test RMSE:  12995.106451548696\n",
      "Test MAE:  9411.325912951994\n",
      "Test R-squared:  0.38699003786201447\n"
     ]
    }
   ],
   "source": [
    "# Easier way to calculate metrics with sklearn tools\n",
    "\n",
    "from sklearn.metrics import mean_squared_error, mean_absolute_error, r2_score\n",
    "\n",
    "model_rmse = mean_squared_error(y_test, y_pred, squared=False)\n",
    "model_mae = mean_absolute_error(y_test, y_pred)\n",
    "model_r2 = r2_score(y_test, y_pred)\n",
    "print('Test RMSE: ', model_rmse)\n",
    "print('Test MAE: ', model_mae)\n",
    "print('Test R-squared: ', model_r2)"
   ]
  },
  {
   "cell_type": "code",
   "execution_count": 8,
   "id": "63206091",
   "metadata": {},
   "outputs": [
    {
     "name": "stdout",
     "output_type": "stream",
     "text": [
      "Test R-squared:  0.38699003786201447\n"
     ]
    }
   ],
   "source": [
    "# Another way to print out Test R-squared\n",
    "model_r2 = model.score(X_test, y_test)\n",
    "print('Test R-squared: ', model_r2)"
   ]
  },
  {
   "cell_type": "markdown",
   "id": "4421c987",
   "metadata": {},
   "source": [
    "**Note:** Why did we repeat the same task in two different libraries?\n",
    "\n",
    "- statsmodels and sklearn have different advantages - we will use both for our purposes\n",
    "    - statsmodels returns a lot of statistical output, which is very helpful for inference (coming up next) but it has a limited variety of models.\n",
    "    - sklearn includes many models (Lasso and Ridge this quarter, many others next quarter) and helpful tools/functions (like metrics) that statsmodels does not  but it does not have any inference tools."
   ]
  },
  {
   "cell_type": "code",
   "execution_count": null,
   "id": "6f05df7a",
   "metadata": {},
   "outputs": [],
   "source": []
  }
 ],
 "metadata": {
  "kernelspec": {
   "display_name": "Python 3 (ipykernel)",
   "language": "python",
   "name": "python3"
  },
  "language_info": {
   "codemirror_mode": {
    "name": "ipython",
    "version": 3
   },
   "file_extension": ".py",
   "mimetype": "text/x-python",
   "name": "python",
   "nbconvert_exporter": "python",
   "pygments_lexer": "ipython3",
   "version": "3.9.16"
  }
 },
 "nbformat": 4,
 "nbformat_minor": 5
}
